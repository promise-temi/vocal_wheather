{
 "cells": [
  {
   "cell_type": "code",
   "execution_count": null,
   "metadata": {},
   "outputs": [],
   "source": [
    "\n"
   ]
  },
  {
   "cell_type": "markdown",
   "metadata": {},
   "source": [
    "### Test spaCy"
   ]
  },
  {
   "cell_type": "code",
   "execution_count": 20,
   "metadata": {},
   "outputs": [
    {
     "name": "stdout",
     "output_type": "stream",
     "text": [
      "Paris -> LOC\n",
      "angers -> LOC\n"
     ]
    }
   ],
   "source": [
    "import spacy\n",
    "\n",
    "nlp = spacy.load(\"fr_core_news_lg\")\n",
    "\n",
    "text = \"\"\"Nous avons un rendez-vous demain à 18h. \n",
    "La réunion aura lieu lundi prochain à 10:30.\n",
    "Le projet démarre le 15/08/2025 et finit dans 2 semaines.\n",
    "Je suis arrivé il y a 3 jours et je repars vendredi matin. Je retourne a Paris et a angers\"\"\"\n",
    "\n",
    "doc = nlp(text)\n",
    "\n",
    "for ent in doc.ents:\n",
    "    if ent.label_ == \"LOC\":\n",
    "        print(f\"{ent.text} -> {ent.label_}\")\n"
   ]
  },
  {
   "cell_type": "code",
   "execution_count": 1,
   "metadata": {},
   "outputs": [
    {
     "name": "stdout",
     "output_type": "stream",
     "text": [
      "📅 Dates trouvées et converties :\n",
      "\n",
      "🌍 Localisations trouvées :\n",
      " - Paris\n",
      " - Angers\n"
     ]
    }
   ],
   "source": [
    "import spacy\n",
    "import dateparser\n",
    "import datetime\n",
    "\n",
    "nlp = spacy.load(\"fr_core_news_lg\")\n",
    "\n",
    "text = \"\"\"Nous avons un rendez-vous demain à 18h. \n",
    "La réunion aura lieu lundi prochain à 10:30.\n",
    "Le projet démarre le 15/08/2025 et finit dans 2 semaines.\n",
    "Je suis arrivé il y a 3 jours et je repars vendredi matin. Je retourne à Paris et à Angers.\"\"\"\n",
    "\n",
    "doc = nlp(text)\n",
    "\n",
    "dates_found = []\n",
    "locations_found = []\n",
    "\n",
    "for ent in doc.ents:\n",
    "    if ent.label_ == \"LOC\":\n",
    "        locations_found.append(ent.text)\n",
    "    elif ent.label_ == \"DATE\":\n",
    "        parsed_date = dateparser.parse(ent.text, settings={'PREFER_DATES_FROM': 'future'})\n",
    "        if parsed_date:\n",
    "            dates_found.append(parsed_date)\n",
    "\n",
    "# Afficher les résultats\n",
    "print(\"📅 Dates trouvées et converties :\")\n",
    "for date in dates_found:\n",
    "    print(f\" - {date}\")\n",
    "\n",
    "print(\"\\n🌍 Localisations trouvées :\")\n",
    "for location in locations_found:\n",
    "    print(f\" - {location}\")\n"
   ]
  },
  {
   "cell_type": "markdown",
   "metadata": {},
   "source": [
    "test Date parser"
   ]
  },
  {
   "cell_type": "code",
   "execution_count": 21,
   "metadata": {},
   "outputs": [
    {
     "name": "stdout",
     "output_type": "stream",
     "text": [
      "Dates détectées : ['demain', '18h', 'lundi', '15/08/2025', 'dans 2 semaines', 'vendredi']\n",
      "demain -> 2025-02-20 16:25:50.033370\n",
      "18h -> 2025-02-18 22:25:50.034368\n",
      "lundi -> 2025-02-17 00:00:00\n",
      "15/08/2025 -> 2025-08-15 00:00:00\n",
      "dans 2 semaines -> 2025-03-05 16:25:50.056549\n",
      "vendredi -> 2025-02-14 00:00:00\n"
     ]
    }
   ],
   "source": [
    "import re\n",
    "import dateparser\n",
    "\n",
    "# Texte contenant plusieurs dates et expressions temporelles\n",
    "text = \"\"\"\n",
    "Nous avons un rendez-vous demain à 18h. \n",
    "La réunion aura lieu lundi prochain à 10:30.\n",
    "Le projet démarre le 15/08/2025 et finit dans 2 semaines.\n",
    "Je suis arrivé il y a 3 jours et je repars vendredi matin.\n",
    "\"\"\"\n",
    "\n",
    "\n",
    "# Regex pour capturer différentes formes de dates et heures\n",
    "pattern = r\"\"\"\n",
    "    \\b(?:\\d{1,2}[/-]\\d{1,2}[/-]\\d{2,4}|\\d{4}-\\d{2}-\\d{2})\\b |  # Dates classiques : 10/02/2024, 2024-05-10\n",
    "    \\b(?:\\d{1,2}h(?:\\d{2})?)\\b |  # Heures : 10h, 14:30\n",
    "    \\b(?:demain|après-demain|hier|aujourd'hui|minuit|midi)\\b |  # Expressions directes\n",
    "    \\b(?:dans|il y a)\\s\\d+\\s(?:jours?|semaines?|mois?|années?)\\b |  # Relatif : dans 3 jours, il y a 2 semaines\n",
    "    \\b(?:lundi|mardi|mercredi|jeudi|vendredi|samedi|dimanche)\\b |  # Jours de la semaine\n",
    "    \\b(?:janvier|février|mars|avril|mai|juin|juillet|août|septembre|octobre|novembre|décembre)\\b  # Mois\n",
    "\"\"\"\n",
    "\n",
    "# Extraction des dates et expressions temporelles\n",
    "matches = re.findall(pattern, text, re.IGNORECASE | re.VERBOSE)\n",
    "\n",
    "# Suppression des espaces vides et stockage dans un tableau\n",
    "dates_extracted = [match.strip() for match in matches if match.strip()]\n",
    "\n",
    "# Affichage des résultats\n",
    "print(\"Dates détectées :\", dates_extracted)\n",
    "\n",
    "# Parsing des dates avec dateparser\n",
    "parsed_dates = [dateparser.parse(date) for date in dates_extracted]\n",
    "\n",
    "# Affichage des dates converties\n",
    "for original, parsed in zip(dates_extracted, parsed_dates):\n",
    "    print(f\"{original} -> {parsed}\")\n"
   ]
  },
  {
   "cell_type": "markdown",
   "metadata": {},
   "source": [
    "### Test geopy"
   ]
  },
  {
   "cell_type": "code",
   "execution_count": 22,
   "metadata": {},
   "outputs": [
    {
     "name": "stdout",
     "output_type": "stream",
     "text": [
      "Angers, Maine-et-Loire, Pays de la Loire, France métropolitaine, France\n",
      "(47.4739884, -0.5515588)\n",
      "{'place_id': 266863829, 'licence': 'Data © OpenStreetMap contributors, ODbL 1.0. http://osm.org/copyright', 'osm_type': 'relation', 'osm_id': 178351, 'lat': '47.4739884', 'lon': '-0.5515588', 'class': 'boundary', 'type': 'administrative', 'place_rank': 16, 'importance': 0.6548475958239229, 'addresstype': 'city', 'name': 'Angers', 'display_name': 'Angers, Maine-et-Loire, Pays de la Loire, France métropolitaine, France', 'boundingbox': ['47.4373546', '47.5262993', '-0.6176931', '-0.5082737']}\n"
     ]
    }
   ],
   "source": [
    "from geopy.geocoders import Nominatim\n",
    "\n",
    "geolocator = Nominatim(user_agent=\"vocal_wheather\")\n",
    "\n",
    "location = geolocator.geocode(\"angers\")\n",
    "\n",
    "print(location.address)\n",
    "\n",
    "print((location.latitude, location.longitude))\n",
    "\n",
    "print(location.raw)\n",
    "\n",
    "\n",
    "geo_latitude = location.latitude\n",
    "\n",
    "geo_longitude = location.longitude\n"
   ]
  },
  {
   "cell_type": "markdown",
   "metadata": {},
   "source": [
    "### Test open-meteo"
   ]
  },
  {
   "cell_type": "code",
   "execution_count": 23,
   "metadata": {},
   "outputs": [
    {
     "name": "stdout",
     "output_type": "stream",
     "text": [
      "Coordinates 47.470001220703125°N -0.5500001907348633°E\n",
      "Elevation 28.0 m asl\n",
      "Timezone b'Europe/Berlin' b'GMT+1'\n",
      "Timezone difference to GMT+0 3600 s\n",
      "Current time 1739978100\n",
      "Current temperature_2m 15.61050033569336\n",
      "Current is_day 1.0\n",
      "Current weather_code 3.0\n",
      "                        date  temperature_2m  weather_code  is_day\n",
      "0  2025-02-19 15:00:00+00:00       15.560500           3.0     1.0\n",
      "1  2025-02-19 16:00:00+00:00       15.360500           1.0     1.0\n",
      "2  2025-02-19 17:00:00+00:00       14.860500           3.0     1.0\n",
      "3  2025-02-19 18:00:00+00:00       14.310500           3.0     0.0\n",
      "4  2025-02-19 19:00:00+00:00       12.110500           3.0     0.0\n",
      "5  2025-02-19 20:00:00+00:00       10.610500           3.0     0.0\n",
      "6  2025-02-19 21:00:00+00:00        9.910501           3.0     0.0\n",
      "7  2025-02-19 22:00:00+00:00        8.960501           3.0     0.0\n",
      "8  2025-02-19 23:00:00+00:00        8.610500           3.0     0.0\n",
      "9  2025-02-20 00:00:00+00:00        8.660501           3.0     0.0\n",
      "10 2025-02-20 01:00:00+00:00        8.760500           3.0     0.0\n",
      "11 2025-02-20 02:00:00+00:00        9.310500           3.0     0.0\n",
      "                       date  weather_code  temperature_2m_max  \\\n",
      "0 2025-02-18 23:00:00+00:00          51.0           15.560500   \n",
      "1 2025-02-19 23:00:00+00:00           3.0           16.760500   \n",
      "2 2025-02-20 23:00:00+00:00          51.0           15.410501   \n",
      "3 2025-02-21 23:00:00+00:00          61.0           14.452000   \n",
      "4 2025-02-22 23:00:00+00:00           3.0           13.452000   \n",
      "5 2025-02-23 23:00:00+00:00           NaN                 NaN   \n",
      "6 2025-02-24 23:00:00+00:00           NaN                 NaN   \n",
      "\n",
      "   temperature_2m_min  \n",
      "0              4.0605  \n",
      "1              8.6105  \n",
      "2             10.6105  \n",
      "3              8.1020  \n",
      "4              7.6020  \n",
      "5                 NaN  \n",
      "6                 NaN  \n"
     ]
    }
   ],
   "source": [
    "import openmeteo_requests\n",
    "\n",
    "import requests_cache\n",
    "import pandas as pd\n",
    "from retry_requests import retry\n",
    "\n",
    "# Setup the Open-Meteo API client with cache and retry on error\n",
    "cache_session = requests_cache.CachedSession('.cache', expire_after = 3600)\n",
    "retry_session = retry(cache_session, retries = 5, backoff_factor = 0.2)\n",
    "openmeteo = openmeteo_requests.Client(session = retry_session)\n",
    "\n",
    "# Make sure all required weather variables are listed here\n",
    "# The order of variables in hourly or daily is important to assign them correctly below\n",
    "url = \"https://api.open-meteo.com/v1/forecast\"\n",
    "params = {\n",
    "\t\"latitude\": geo_latitude,\n",
    "\t\"longitude\": geo_longitude,\n",
    "\t\"current\": [\"temperature_2m\", \"is_day\", \"weather_code\"],\n",
    "\t\"hourly\": [\"temperature_2m\", \"weather_code\", \"is_day\"],\n",
    "\t\"daily\": [\"weather_code\", \"temperature_2m_max\", \"temperature_2m_min\"],\n",
    "\t\"timezone\": \"Europe/Berlin\",\n",
    "\t\"forecast_hours\": 12,\n",
    "\t\"models\": \"meteofrance_seamless\"\n",
    "}\n",
    "responses = openmeteo.weather_api(url, params=params)\n",
    "\n",
    "# Process first location. Add a for-loop for multiple locations or weather models\n",
    "response = responses[0]\n",
    "print(f\"Coordinates {response.Latitude()}°N {response.Longitude()}°E\")\n",
    "print(f\"Elevation {response.Elevation()} m asl\")\n",
    "print(f\"Timezone {response.Timezone()} {response.TimezoneAbbreviation()}\")\n",
    "print(f\"Timezone difference to GMT+0 {response.UtcOffsetSeconds()} s\")\n",
    "\n",
    "\n",
    "# Current values. The order of variables needs to be the same as requested.\n",
    "current = response.Current()\n",
    "\n",
    "current_temperature_2m = current.Variables(0).Value()\n",
    "\n",
    "current_is_day = current.Variables(1).Value()\n",
    "\n",
    "current_weather_code = current.Variables(2).Value()\n",
    "\n",
    "print(f\"Current time {current.Time()}\")\n",
    "\n",
    "print(f\"Current temperature_2m {current_temperature_2m}\")\n",
    "print(f\"Current is_day {current_is_day}\")\n",
    "print(f\"Current weather_code {current_weather_code}\")\n",
    "# Process hourly data. The order of variables needs to be the same as requested.\n",
    "hourly = response.Hourly()\n",
    "hourly_temperature_2m = hourly.Variables(0).ValuesAsNumpy()\n",
    "hourly_weather_code = hourly.Variables(1).ValuesAsNumpy()\n",
    "hourly_is_day = hourly.Variables(2).ValuesAsNumpy()\n",
    "\n",
    "hourly_data = {\"date\": pd.date_range(\n",
    "\tstart = pd.to_datetime(hourly.Time(), unit = \"s\", utc = True),\n",
    "\tend = pd.to_datetime(hourly.TimeEnd(), unit = \"s\", utc = True),\n",
    "\tfreq = pd.Timedelta(seconds = hourly.Interval()),\n",
    "\tinclusive = \"left\"\n",
    ")}\n",
    "\n",
    "hourly_data[\"temperature_2m\"] = hourly_temperature_2m\n",
    "hourly_data[\"weather_code\"] = hourly_weather_code\n",
    "hourly_data[\"is_day\"] = hourly_is_day\n",
    "\n",
    "hourly_dataframe = pd.DataFrame(data = hourly_data)\n",
    "print(hourly_dataframe)\n",
    "\n",
    "# Process daily data. The order of variables needs to be the same as requested.\n",
    "daily = response.Daily()\n",
    "daily_weather_code = daily.Variables(0).ValuesAsNumpy()\n",
    "daily_temperature_2m_max = daily.Variables(1).ValuesAsNumpy()\n",
    "daily_temperature_2m_min = daily.Variables(2).ValuesAsNumpy()\n",
    "\n",
    "daily_data = {\"date\": pd.date_range(\n",
    "\tstart = pd.to_datetime(daily.Time(), unit = \"s\", utc = True),\n",
    "\tend = pd.to_datetime(daily.TimeEnd(), unit = \"s\", utc = True),\n",
    "\tfreq = pd.Timedelta(seconds = daily.Interval()),\n",
    "\tinclusive = \"left\"\n",
    ")}\n",
    "\n",
    "daily_data[\"weather_code\"] = daily_weather_code\n",
    "daily_data[\"temperature_2m_max\"] = daily_temperature_2m_max\n",
    "daily_data[\"temperature_2m_min\"] = daily_temperature_2m_min\n",
    "\n",
    "\n",
    "\n",
    "daily_dataframe = pd.DataFrame(data = daily_data)\n",
    "print(daily_dataframe)\n",
    "\n"
   ]
  },
  {
   "cell_type": "code",
   "execution_count": 24,
   "metadata": {},
   "outputs": [
    {
     "data": {
      "application/vnd.microsoft.datawrangler.viewer.v0+json": {
       "columns": [
        {
         "name": "index",
         "rawType": "int64",
         "type": "integer"
        },
        {
         "name": "time",
         "rawType": "int64",
         "type": "integer"
        },
        {
         "name": "temperature",
         "rawType": "float64",
         "type": "float"
        },
        {
         "name": "is_day",
         "rawType": "float64",
         "type": "float"
        },
        {
         "name": "weather_code",
         "rawType": "float64",
         "type": "float"
        }
       ],
       "conversionMethod": "pd.DataFrame",
       "ref": "1f77a63c-82a9-46e3-96ea-092008a14175",
       "rows": [
        [
         "0",
         "1739978100",
         "15.61050033569336",
         "1.0",
         "3.0"
        ]
       ],
       "shape": {
        "columns": 4,
        "rows": 1
       }
      },
      "text/html": [
       "<div>\n",
       "<style scoped>\n",
       "    .dataframe tbody tr th:only-of-type {\n",
       "        vertical-align: middle;\n",
       "    }\n",
       "\n",
       "    .dataframe tbody tr th {\n",
       "        vertical-align: top;\n",
       "    }\n",
       "\n",
       "    .dataframe thead th {\n",
       "        text-align: right;\n",
       "    }\n",
       "</style>\n",
       "<table border=\"1\" class=\"dataframe\">\n",
       "  <thead>\n",
       "    <tr style=\"text-align: right;\">\n",
       "      <th></th>\n",
       "      <th>time</th>\n",
       "      <th>temperature</th>\n",
       "      <th>is_day</th>\n",
       "      <th>weather_code</th>\n",
       "    </tr>\n",
       "  </thead>\n",
       "  <tbody>\n",
       "    <tr>\n",
       "      <th>0</th>\n",
       "      <td>1739978100</td>\n",
       "      <td>15.6105</td>\n",
       "      <td>1.0</td>\n",
       "      <td>3.0</td>\n",
       "    </tr>\n",
       "  </tbody>\n",
       "</table>\n",
       "</div>"
      ],
      "text/plain": [
       "         time  temperature  is_day  weather_code\n",
       "0  1739978100      15.6105     1.0           3.0"
      ]
     },
     "execution_count": 24,
     "metadata": {},
     "output_type": "execute_result"
    }
   ],
   "source": [
    "current_dict = {\n",
    "    'time' : [current.Time()],\n",
    "    'temperature' : [current_temperature_2m],\n",
    "    'is_day' : [current_is_day],\n",
    "    'weather_code' : [current_weather_code]\n",
    "}\n",
    "current_df = pd.DataFrame(current_dict)\n",
    "current_df"
   ]
  },
  {
   "cell_type": "code",
   "execution_count": 26,
   "metadata": {},
   "outputs": [
    {
     "data": {
      "application/vnd.microsoft.datawrangler.viewer.v0+json": {
       "columns": [
        {
         "name": "index",
         "rawType": "int64",
         "type": "integer"
        },
        {
         "name": "date",
         "rawType": "datetime64[ns, UTC]",
         "type": "unknown"
        },
        {
         "name": "temperature",
         "rawType": "float32",
         "type": "float"
        },
        {
         "name": "weather_code",
         "rawType": "float32",
         "type": "float"
        },
        {
         "name": "is_day",
         "rawType": "float32",
         "type": "float"
        }
       ],
       "conversionMethod": "pd.DataFrame",
       "ref": "614f6594-5f7b-47d8-a6f8-51c994fce12b",
       "rows": [
        [
         "0",
         "2025-02-19 15:00:00+00:00",
         "15.5605",
         "3.0",
         "1.0"
        ],
        [
         "1",
         "2025-02-19 16:00:00+00:00",
         "15.3605",
         "1.0",
         "1.0"
        ],
        [
         "2",
         "2025-02-19 17:00:00+00:00",
         "14.8605",
         "3.0",
         "1.0"
        ],
        [
         "3",
         "2025-02-19 18:00:00+00:00",
         "14.3105",
         "3.0",
         "0.0"
        ],
        [
         "4",
         "2025-02-19 19:00:00+00:00",
         "12.1105",
         "3.0",
         "0.0"
        ],
        [
         "5",
         "2025-02-19 20:00:00+00:00",
         "10.6105",
         "3.0",
         "0.0"
        ],
        [
         "6",
         "2025-02-19 21:00:00+00:00",
         "9.910501",
         "3.0",
         "0.0"
        ],
        [
         "7",
         "2025-02-19 22:00:00+00:00",
         "8.960501",
         "3.0",
         "0.0"
        ],
        [
         "8",
         "2025-02-19 23:00:00+00:00",
         "8.6105",
         "3.0",
         "0.0"
        ],
        [
         "9",
         "2025-02-20 00:00:00+00:00",
         "8.660501",
         "3.0",
         "0.0"
        ],
        [
         "10",
         "2025-02-20 01:00:00+00:00",
         "8.7605",
         "3.0",
         "0.0"
        ],
        [
         "11",
         "2025-02-20 02:00:00+00:00",
         "9.3105",
         "3.0",
         "0.0"
        ]
       ],
       "shape": {
        "columns": 4,
        "rows": 12
       }
      },
      "text/html": [
       "<div>\n",
       "<style scoped>\n",
       "    .dataframe tbody tr th:only-of-type {\n",
       "        vertical-align: middle;\n",
       "    }\n",
       "\n",
       "    .dataframe tbody tr th {\n",
       "        vertical-align: top;\n",
       "    }\n",
       "\n",
       "    .dataframe thead th {\n",
       "        text-align: right;\n",
       "    }\n",
       "</style>\n",
       "<table border=\"1\" class=\"dataframe\">\n",
       "  <thead>\n",
       "    <tr style=\"text-align: right;\">\n",
       "      <th></th>\n",
       "      <th>date</th>\n",
       "      <th>temperature</th>\n",
       "      <th>weather_code</th>\n",
       "      <th>is_day</th>\n",
       "    </tr>\n",
       "  </thead>\n",
       "  <tbody>\n",
       "    <tr>\n",
       "      <th>0</th>\n",
       "      <td>2025-02-19 15:00:00+00:00</td>\n",
       "      <td>15.560500</td>\n",
       "      <td>3.0</td>\n",
       "      <td>1.0</td>\n",
       "    </tr>\n",
       "    <tr>\n",
       "      <th>1</th>\n",
       "      <td>2025-02-19 16:00:00+00:00</td>\n",
       "      <td>15.360500</td>\n",
       "      <td>1.0</td>\n",
       "      <td>1.0</td>\n",
       "    </tr>\n",
       "    <tr>\n",
       "      <th>2</th>\n",
       "      <td>2025-02-19 17:00:00+00:00</td>\n",
       "      <td>14.860500</td>\n",
       "      <td>3.0</td>\n",
       "      <td>1.0</td>\n",
       "    </tr>\n",
       "    <tr>\n",
       "      <th>3</th>\n",
       "      <td>2025-02-19 18:00:00+00:00</td>\n",
       "      <td>14.310500</td>\n",
       "      <td>3.0</td>\n",
       "      <td>0.0</td>\n",
       "    </tr>\n",
       "    <tr>\n",
       "      <th>4</th>\n",
       "      <td>2025-02-19 19:00:00+00:00</td>\n",
       "      <td>12.110500</td>\n",
       "      <td>3.0</td>\n",
       "      <td>0.0</td>\n",
       "    </tr>\n",
       "    <tr>\n",
       "      <th>5</th>\n",
       "      <td>2025-02-19 20:00:00+00:00</td>\n",
       "      <td>10.610500</td>\n",
       "      <td>3.0</td>\n",
       "      <td>0.0</td>\n",
       "    </tr>\n",
       "    <tr>\n",
       "      <th>6</th>\n",
       "      <td>2025-02-19 21:00:00+00:00</td>\n",
       "      <td>9.910501</td>\n",
       "      <td>3.0</td>\n",
       "      <td>0.0</td>\n",
       "    </tr>\n",
       "    <tr>\n",
       "      <th>7</th>\n",
       "      <td>2025-02-19 22:00:00+00:00</td>\n",
       "      <td>8.960501</td>\n",
       "      <td>3.0</td>\n",
       "      <td>0.0</td>\n",
       "    </tr>\n",
       "    <tr>\n",
       "      <th>8</th>\n",
       "      <td>2025-02-19 23:00:00+00:00</td>\n",
       "      <td>8.610500</td>\n",
       "      <td>3.0</td>\n",
       "      <td>0.0</td>\n",
       "    </tr>\n",
       "    <tr>\n",
       "      <th>9</th>\n",
       "      <td>2025-02-20 00:00:00+00:00</td>\n",
       "      <td>8.660501</td>\n",
       "      <td>3.0</td>\n",
       "      <td>0.0</td>\n",
       "    </tr>\n",
       "    <tr>\n",
       "      <th>10</th>\n",
       "      <td>2025-02-20 01:00:00+00:00</td>\n",
       "      <td>8.760500</td>\n",
       "      <td>3.0</td>\n",
       "      <td>0.0</td>\n",
       "    </tr>\n",
       "    <tr>\n",
       "      <th>11</th>\n",
       "      <td>2025-02-20 02:00:00+00:00</td>\n",
       "      <td>9.310500</td>\n",
       "      <td>3.0</td>\n",
       "      <td>0.0</td>\n",
       "    </tr>\n",
       "  </tbody>\n",
       "</table>\n",
       "</div>"
      ],
      "text/plain": [
       "                        date  temperature  weather_code  is_day\n",
       "0  2025-02-19 15:00:00+00:00    15.560500           3.0     1.0\n",
       "1  2025-02-19 16:00:00+00:00    15.360500           1.0     1.0\n",
       "2  2025-02-19 17:00:00+00:00    14.860500           3.0     1.0\n",
       "3  2025-02-19 18:00:00+00:00    14.310500           3.0     0.0\n",
       "4  2025-02-19 19:00:00+00:00    12.110500           3.0     0.0\n",
       "5  2025-02-19 20:00:00+00:00    10.610500           3.0     0.0\n",
       "6  2025-02-19 21:00:00+00:00     9.910501           3.0     0.0\n",
       "7  2025-02-19 22:00:00+00:00     8.960501           3.0     0.0\n",
       "8  2025-02-19 23:00:00+00:00     8.610500           3.0     0.0\n",
       "9  2025-02-20 00:00:00+00:00     8.660501           3.0     0.0\n",
       "10 2025-02-20 01:00:00+00:00     8.760500           3.0     0.0\n",
       "11 2025-02-20 02:00:00+00:00     9.310500           3.0     0.0"
      ]
     },
     "execution_count": 26,
     "metadata": {},
     "output_type": "execute_result"
    }
   ],
   "source": [
    "hourly_dict = {\n",
    "    'date' : hourly_data['date'],\n",
    "    'temperature' : hourly_temperature_2m,\n",
    "    'weather_code' : hourly_weather_code,\n",
    "    'is_day' : hourly_is_day\n",
    "    \n",
    "}\n",
    "hourly_df = pd.DataFrame(hourly_dict)\n",
    "hourly_df"
   ]
  },
  {
   "cell_type": "code",
   "execution_count": 35,
   "metadata": {},
   "outputs": [
    {
     "data": {
      "application/vnd.microsoft.datawrangler.viewer.v0+json": {
       "columns": [
        {
         "name": "index",
         "rawType": "int64",
         "type": "integer"
        },
        {
         "name": "weather_code",
         "rawType": "float32",
         "type": "float"
        },
        {
         "name": "temperature_min",
         "rawType": "float32",
         "type": "float"
        },
        {
         "name": "temperature_max",
         "rawType": "float32",
         "type": "float"
        }
       ],
       "conversionMethod": "pd.DataFrame",
       "ref": "b0295ce5-655f-4258-834a-39adf44eba1c",
       "rows": [
        [
         "0",
         "3.0",
         "2.974",
         "12.774"
        ],
        [
         "1",
         "3.0",
         "7.074",
         "15.074"
        ],
        [
         "2",
         "51.0",
         "8.58",
         "13.33"
        ],
        [
         "3",
         "53.0",
         "7.23",
         "13.03"
        ],
        [
         "4",
         "3.0",
         "5.28",
         "6.58"
        ],
        [
         "5",
         null,
         null,
         null
        ],
        [
         "6",
         null,
         null,
         null
        ]
       ],
       "shape": {
        "columns": 3,
        "rows": 7
       }
      },
      "text/html": [
       "<div>\n",
       "<style scoped>\n",
       "    .dataframe tbody tr th:only-of-type {\n",
       "        vertical-align: middle;\n",
       "    }\n",
       "\n",
       "    .dataframe tbody tr th {\n",
       "        vertical-align: top;\n",
       "    }\n",
       "\n",
       "    .dataframe thead th {\n",
       "        text-align: right;\n",
       "    }\n",
       "</style>\n",
       "<table border=\"1\" class=\"dataframe\">\n",
       "  <thead>\n",
       "    <tr style=\"text-align: right;\">\n",
       "      <th></th>\n",
       "      <th>weather_code</th>\n",
       "      <th>temperature_min</th>\n",
       "      <th>temperature_max</th>\n",
       "    </tr>\n",
       "  </thead>\n",
       "  <tbody>\n",
       "    <tr>\n",
       "      <th>0</th>\n",
       "      <td>3.0</td>\n",
       "      <td>2.974</td>\n",
       "      <td>12.774</td>\n",
       "    </tr>\n",
       "    <tr>\n",
       "      <th>1</th>\n",
       "      <td>3.0</td>\n",
       "      <td>7.074</td>\n",
       "      <td>15.074</td>\n",
       "    </tr>\n",
       "    <tr>\n",
       "      <th>2</th>\n",
       "      <td>51.0</td>\n",
       "      <td>8.580</td>\n",
       "      <td>13.330</td>\n",
       "    </tr>\n",
       "    <tr>\n",
       "      <th>3</th>\n",
       "      <td>53.0</td>\n",
       "      <td>7.230</td>\n",
       "      <td>13.030</td>\n",
       "    </tr>\n",
       "    <tr>\n",
       "      <th>4</th>\n",
       "      <td>3.0</td>\n",
       "      <td>5.280</td>\n",
       "      <td>6.580</td>\n",
       "    </tr>\n",
       "    <tr>\n",
       "      <th>5</th>\n",
       "      <td>NaN</td>\n",
       "      <td>NaN</td>\n",
       "      <td>NaN</td>\n",
       "    </tr>\n",
       "    <tr>\n",
       "      <th>6</th>\n",
       "      <td>NaN</td>\n",
       "      <td>NaN</td>\n",
       "      <td>NaN</td>\n",
       "    </tr>\n",
       "  </tbody>\n",
       "</table>\n",
       "</div>"
      ],
      "text/plain": [
       "   weather_code  temperature_min  temperature_max\n",
       "0           3.0            2.974           12.774\n",
       "1           3.0            7.074           15.074\n",
       "2          51.0            8.580           13.330\n",
       "3          53.0            7.230           13.030\n",
       "4           3.0            5.280            6.580\n",
       "5           NaN              NaN              NaN\n",
       "6           NaN              NaN              NaN"
      ]
     },
     "execution_count": 35,
     "metadata": {},
     "output_type": "execute_result"
    }
   ],
   "source": [
    "daily_dict = {\n",
    "    'weather_code' :  daily_weather_code,\n",
    "    'temperature_min' : daily_temperature_2m_min,\n",
    "    'temperature_max' : daily_temperature_2m_max\n",
    "}\n",
    "\n",
    "daily_df = pd.DataFrame(daily_dict)\n",
    "daily_df"
   ]
  },
  {
   "cell_type": "markdown",
   "metadata": {},
   "source": [
    "### test spaCy"
   ]
  },
  {
   "cell_type": "markdown",
   "metadata": {},
   "source": [
    "### test dateparser"
   ]
  },
  {
   "cell_type": "markdown",
   "metadata": {},
   "source": [
    "### test geopy"
   ]
  },
  {
   "cell_type": "code",
   "execution_count": null,
   "metadata": {},
   "outputs": [],
   "source": []
  }
 ],
 "metadata": {
  "kernelspec": {
   "display_name": "venv",
   "language": "python",
   "name": "python3"
  },
  "language_info": {
   "codemirror_mode": {
    "name": "ipython",
    "version": 3
   },
   "file_extension": ".py",
   "mimetype": "text/x-python",
   "name": "python",
   "nbconvert_exporter": "python",
   "pygments_lexer": "ipython3",
   "version": "3.12.7"
  }
 },
 "nbformat": 4,
 "nbformat_minor": 2
}
